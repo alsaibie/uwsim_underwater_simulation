{
 "cells": [
  {
   "cell_type": "markdown",
   "metadata": {},
   "source": [
    "## Sorting out the Euler Rotation Order confusion\n",
    "There exists a number of euler rotation angle sequences. Take a look at [Wikipedia's Euler Angles Entry](https://en.wikipedia.org/wiki/Euler_angles). And [this](https://www.princeton.edu/~stengel/MAE331Lecture8.pdf) is a better resource. The notation for the angles are\n",
    "\n",
    "Roll: $\\phi$\n",
    "Pitch: $\\theta$\n",
    "Yaw: $\\psi$\n",
    "\n",
    "When denoted as X1, Y2, Z3, the roll, pitch, yaw would correspond to rotations about x, y, z respectively. \n",
    "\n",
    "A proper Euler angle is not what we commonly use in robotics, the proper Euler angles start and end with rotations about the same axis. The Tait-Bryan angles though are the ones where rotations are done about the three axes. So what we use normally are the Tait-Bryan angles, even though they generally are referred to Euler angles. \n",
    "\n",
    "The usual order used to transform between earth to body frame is the Tait-Bryan X1Y2Z3 convention but reversed"
   ]
  },
  {
   "cell_type": "code",
   "execution_count": 2,
   "metadata": {},
   "outputs": [],
   "source": [
    "from sympy import init_printing\n",
    "init_printing(use_latex=True)\n",
    "from sympy import *\n",
    "from sympy.abc import theta, phi, psi\n",
    "# dir(abc)"
   ]
  },
  {
   "cell_type": "code",
   "execution_count": 3,
   "metadata": {},
   "outputs": [],
   "source": [
    "#iR denotes rotation from body to inertial reference frame => iV = iRx bV \n",
    "bRx = rot_axis1(phi) # Rotation around x axis - roll\n",
    "bRy = rot_axis2(theta) # Rotation around y axis - pitch\n",
    "bRz = rot_axis3(psi) # Rotation around z axis - yaw\n",
    "\n",
    "# bR denotes rotation from inertial to body frame\n",
    "iRx = rot_axis1(-phi) # Rotation around x axis - roll\n",
    "iRy = rot_axis2(-theta) # Rotation around y axis - pitch\n",
    "iRz = rot_axis3(-psi) # Rotation around z axis - yaw"
   ]
  },
  {
   "cell_type": "code",
   "execution_count": 4,
   "metadata": {},
   "outputs": [
    {
     "data": {
      "image/png": "[encoded data removed]",
      "text/latex": [
       "$$\\left ( \\left[\\begin{matrix}1 & 0 & 0\\\\0 & \\cos{\\left (\\phi \\right )} & \\sin{\\left (\\phi \\right )}\\\\0 & - \\sin{\\left (\\phi \\right )} & \\cos{\\left (\\phi \\right )}\\end{matrix}\\right], \\quad \\left[\\begin{matrix}\\cos{\\left (\\theta \\right )} & 0 & - \\sin{\\left (\\theta \\right )}\\\\0 & 1 & 0\\\\\\sin{\\left (\\theta \\right )} & 0 & \\cos{\\left (\\theta \\right )}\\end{matrix}\\right], \\quad \\left[\\begin{matrix}\\cos{\\left (\\psi \\right )} & \\sin{\\left (\\psi \\right )} & 0\\\\- \\sin{\\left (\\psi \\right )} & \\cos{\\left (\\psi \\right )} & 0\\\\0 & 0 & 1\\end{matrix}\\right]\\right )$$"
      ],
      "text/plain": [
       "⎛⎡1     0       0   ⎤  ⎡cos(θ)  0  -sin(θ)⎤  ⎡cos(ψ)   sin(ψ)  0⎤⎞\n",
       "⎜⎢                  ⎥  ⎢                  ⎥  ⎢                  ⎥⎟\n",
       "⎜⎢0  cos(φ)   sin(φ)⎥, ⎢  0     1     0   ⎥, ⎢-sin(ψ)  cos(ψ)  0⎥⎟\n",
       "⎜⎢                  ⎥  ⎢                  ⎥  ⎢                  ⎥⎟\n",
       "⎝⎣0  -sin(φ)  cos(φ)⎦  ⎣sin(θ)  0  cos(θ) ⎦  ⎣   0       0     1⎦⎠"
      ]
     },
     "execution_count": 4,
     "metadata": {},
     "output_type": "execute_result"
    }
   ],
   "source": [
    "bRx, bRy, bRz"
   ]
  },
  {
   "cell_type": "code",
   "execution_count": 5,
   "metadata": {},
   "outputs": [
    {
     "data": {
      "image/png": "[encoded data removed]",
      "text/latex": [
       "$$\\left ( \\left[\\begin{matrix}1 & 0 & 0\\\\0 & \\cos{\\left (\\phi \\right )} & \\sin{\\left (\\phi \\right )}\\\\0 & - \\sin{\\left (\\phi \\right )} & \\cos{\\left (\\phi \\right )}\\end{matrix}\\right], \\quad \\left[\\begin{matrix}\\cos{\\left (\\theta \\right )} & 0 & - \\sin{\\left (\\theta \\right )}\\\\0 & 1 & 0\\\\\\sin{\\left (\\theta \\right )} & 0 & \\cos{\\left (\\theta \\right )}\\end{matrix}\\right], \\quad \\left[\\begin{matrix}\\cos{\\left (\\psi \\right )} & \\sin{\\left (\\psi \\right )} & 0\\\\- \\sin{\\left (\\psi \\right )} & \\cos{\\left (\\psi \\right )} & 0\\\\0 & 0 & 1\\end{matrix}\\right]\\right )$$"
      ],
      "text/plain": [
       "⎛⎡1     0       0   ⎤  ⎡cos(θ)  0  -sin(θ)⎤  ⎡cos(ψ)   sin(ψ)  0⎤⎞\n",
       "⎜⎢                  ⎥  ⎢                  ⎥  ⎢                  ⎥⎟\n",
       "⎜⎢0  cos(φ)   sin(φ)⎥, ⎢  0     1     0   ⎥, ⎢-sin(ψ)  cos(ψ)  0⎥⎟\n",
       "⎜⎢                  ⎥  ⎢                  ⎥  ⎢                  ⎥⎟\n",
       "⎝⎣0  -sin(φ)  cos(φ)⎦  ⎣sin(θ)  0  cos(θ) ⎦  ⎣   0       0     1⎦⎠"
      ]
     },
     "execution_count": 5,
     "metadata": {},
     "output_type": "execute_result"
    }
   ],
   "source": [
    "bRx, bRy, bRz"
   ]
  },
  {
   "cell_type": "code",
   "execution_count": 6,
   "metadata": {},
   "outputs": [
    {
     "data": {
      "image/png": "[encoded data removed]",
      "text/latex": [
       "$$\\left[\\begin{matrix}\\cos{\\left (\\psi \\right )} \\cos{\\left (\\theta \\right )} & \\sin{\\left (\\psi \\right )} \\cos{\\left (\\theta \\right )} & - \\sin{\\left (\\theta \\right )}\\\\\\sin{\\left (\\phi \\right )} \\sin{\\left (\\theta \\right )} \\cos{\\left (\\psi \\right )} - \\sin{\\left (\\psi \\right )} \\cos{\\left (\\phi \\right )} & \\sin{\\left (\\phi \\right )} \\sin{\\left (\\psi \\right )} \\sin{\\left (\\theta \\right )} + \\cos{\\left (\\phi \\right )} \\cos{\\left (\\psi \\right )} & \\sin{\\left (\\phi \\right )} \\cos{\\left (\\theta \\right )}\\\\\\sin{\\left (\\phi \\right )} \\sin{\\left (\\psi \\right )} + \\sin{\\left (\\theta \\right )} \\cos{\\left (\\phi \\right )} \\cos{\\left (\\psi \\right )} & - \\sin{\\left (\\phi \\right )} \\cos{\\left (\\psi \\right )} + \\sin{\\left (\\psi \\right )} \\sin{\\left (\\theta \\right )} \\cos{\\left (\\phi \\right )} & \\cos{\\left (\\phi \\right )} \\cos{\\left (\\theta \\right )}\\end{matrix}\\right]$$"
      ],
      "text/plain": [
       "⎡           cos(ψ)⋅cos(θ)                          sin(ψ)⋅cos(θ)              \n",
       "⎢                                                                             \n",
       "⎢sin(φ)⋅sin(θ)⋅cos(ψ) - sin(ψ)⋅cos(φ)  sin(φ)⋅sin(ψ)⋅sin(θ) + cos(φ)⋅cos(ψ)   \n",
       "⎢                                                                             \n",
       "⎣sin(φ)⋅sin(ψ) + sin(θ)⋅cos(φ)⋅cos(ψ)  -sin(φ)⋅cos(ψ) + sin(ψ)⋅sin(θ)⋅cos(φ)  \n",
       "\n",
       "   -sin(θ)   ⎤\n",
       "             ⎥\n",
       "sin(φ)⋅cos(θ)⎥\n",
       "             ⎥\n",
       "cos(φ)⋅cos(θ)⎦"
      ]
     },
     "execution_count": 6,
     "metadata": {},
     "output_type": "execute_result"
    }
   ],
   "source": [
    "# The order of rotation between inertial to body frame would be\n",
    "# iR = iRroll iRpitch iRyaw = iRx iRy iRz - Tait-Bryan 3-2-1 convention\n",
    "bR = bRx*bRy*bRz\n",
    "bR\n"
   ]
  },
  {
   "cell_type": "code",
   "execution_count": 7,
   "metadata": {},
   "outputs": [
    {
     "data": {
      "image/png": "[encoded data removed]",
      "text/latex": [
       "$$\\left[\\begin{matrix}\\cos{\\left (\\psi \\right )} \\cos{\\left (\\theta \\right )} & \\sin{\\left (\\phi \\right )} \\sin{\\left (\\theta \\right )} \\cos{\\left (\\psi \\right )} - \\sin{\\left (\\psi \\right )} \\cos{\\left (\\phi \\right )} & \\sin{\\left (\\phi \\right )} \\sin{\\left (\\psi \\right )} + \\sin{\\left (\\theta \\right )} \\cos{\\left (\\phi \\right )} \\cos{\\left (\\psi \\right )}\\\\\\sin{\\left (\\psi \\right )} \\cos{\\left (\\theta \\right )} & \\sin{\\left (\\phi \\right )} \\sin{\\left (\\psi \\right )} \\sin{\\left (\\theta \\right )} + \\cos{\\left (\\phi \\right )} \\cos{\\left (\\psi \\right )} & - \\sin{\\left (\\phi \\right )} \\cos{\\left (\\psi \\right )} + \\sin{\\left (\\psi \\right )} \\sin{\\left (\\theta \\right )} \\cos{\\left (\\phi \\right )}\\\\- \\sin{\\left (\\theta \\right )} & \\sin{\\left (\\phi \\right )} \\cos{\\left (\\theta \\right )} & \\cos{\\left (\\phi \\right )} \\cos{\\left (\\theta \\right )}\\end{matrix}\\right]$$"
      ],
      "text/plain": [
       "⎡cos(ψ)⋅cos(θ)  sin(φ)⋅sin(θ)⋅cos(ψ) - sin(ψ)⋅cos(φ)  sin(φ)⋅sin(ψ) + sin(θ)⋅c\n",
       "⎢                                                                             \n",
       "⎢sin(ψ)⋅cos(θ)  sin(φ)⋅sin(ψ)⋅sin(θ) + cos(φ)⋅cos(ψ)  -sin(φ)⋅cos(ψ) + sin(ψ)⋅\n",
       "⎢                                                                             \n",
       "⎣   -sin(θ)                sin(φ)⋅cos(θ)                          cos(φ)⋅cos(θ\n",
       "\n",
       "os(φ)⋅cos(ψ) ⎤\n",
       "             ⎥\n",
       "sin(θ)⋅cos(φ)⎥\n",
       "             ⎥\n",
       ")            ⎦"
      ]
     },
     "execution_count": 7,
     "metadata": {},
     "output_type": "execute_result"
    }
   ],
   "source": [
    "# And the reverse: from body frame to inertial frame - Z3Y2X1\n",
    "# This corresponds to \n",
    "iR = iRz * iRy * iRx # equivalent to bR.inv()\n",
    "iR"
   ]
  },
  {
   "cell_type": "code",
   "execution_count": 8,
   "metadata": {},
   "outputs": [],
   "source": [
    "# simplify(bR.inv())"
   ]
  },
  {
   "cell_type": "code",
   "execution_count": 9,
   "metadata": {},
   "outputs": [
    {
     "data": {
      "image/png": "[encoded data removed]",
      "text/latex": [
       "$$\\left[\\begin{matrix}1 & 0 & - \\sin{\\left (\\theta \\right )}\\\\0 & \\cos{\\left (\\phi \\right )} & \\sin{\\left (\\phi \\right )} \\cos{\\left (\\theta \\right )}\\\\0 & - \\sin{\\left (\\phi \\right )} & \\cos{\\left (\\phi \\right )} \\cos{\\left (\\theta \\right )}\\end{matrix}\\right]$$"
      ],
      "text/plain": [
       "⎡1     0        -sin(θ)   ⎤\n",
       "⎢                         ⎥\n",
       "⎢0  cos(φ)   sin(φ)⋅cos(θ)⎥\n",
       "⎢                         ⎥\n",
       "⎣0  -sin(φ)  cos(φ)⋅cos(θ)⎦"
      ]
     },
     "execution_count": 9,
     "metadata": {},
     "output_type": "execute_result"
    }
   ],
   "source": [
    "# Matrix Jko from Antonelli which expresses Jacobian for v2 =Jko * eta2 (eq2.2). \n",
    "# This is based on the roll, pitch, yaw convention : x(phi) y(theta) z(psi) order.\n",
    "# TODO: figure out the control convention and write it out. \n",
    "Jko = Matrix([[1, 0, -sin(theta)], [0, cos(phi), cos(theta)*sin(phi)], [0, -sin(phi), cos(theta)*cos(phi)]])\n",
    "Jko"
   ]
  },
  {
   "cell_type": "code",
   "execution_count": 10,
   "metadata": {},
   "outputs": [
    {
     "data": {
      "image/png": "[encoded data removed]",
      "text/latex": [
       "$$\\left[\\begin{matrix}1 & \\sin{\\left (\\phi \\right )} \\tan{\\left (\\theta \\right )} & \\cos{\\left (\\phi \\right )} \\tan{\\left (\\theta \\right )}\\\\0 & \\cos{\\left (\\phi \\right )} & - \\sin{\\left (\\phi \\right )}\\\\0 & \\frac{\\sin{\\left (\\phi \\right )}}{\\cos{\\left (\\theta \\right )}} & \\frac{\\cos{\\left (\\phi \\right )}}{\\cos{\\left (\\theta \\right )}}\\end{matrix}\\right]$$"
      ],
      "text/plain": [
       "⎡1  sin(φ)⋅tan(θ)  cos(φ)⋅tan(θ)⎤\n",
       "⎢                               ⎥\n",
       "⎢0     cos(φ)         -sin(φ)   ⎥\n",
       "⎢                               ⎥\n",
       "⎢      sin(φ)         cos(φ)    ⎥\n",
       "⎢0     ──────         ──────    ⎥\n",
       "⎣      cos(θ)         cos(θ)    ⎦"
      ]
     },
     "execution_count": 10,
     "metadata": {},
     "output_type": "execute_result"
    }
   ],
   "source": [
    "Jko_inv = Jko.inv()\n",
    "simplify(Jko_inv)"
   ]
  },
  {
   "cell_type": "code",
   "execution_count": 11,
   "metadata": {},
   "outputs": [],
   "source": [
    "# The rotation matrix that expresses the body-fixed velocities to earth frame is \n",
    "Je1 = Matrix.hstack(bR,zeros(3,3))\n",
    "Je2 = Matrix.hstack(zeros(3,3), Jko)\n",
    "Je = Matrix.vstack(Je1, Je2)"
   ]
  },
  {
   "cell_type": "code",
   "execution_count": 12,
   "metadata": {},
   "outputs": [
    {
     "data": {
      "image/png": "[encoded data removed]",
      "text/latex": [
       "$$\\left[\\begin{matrix}\\cos{\\left (\\psi \\right )} \\cos{\\left (\\theta \\right )} & \\sin{\\left (\\psi \\right )} \\cos{\\left (\\theta \\right )} & - \\sin{\\left (\\theta \\right )} & 0 & 0 & 0\\\\\\sin{\\left (\\phi \\right )} \\sin{\\left (\\theta \\right )} \\cos{\\left (\\psi \\right )} - \\sin{\\left (\\psi \\right )} \\cos{\\left (\\phi \\right )} & \\sin{\\left (\\phi \\right )} \\sin{\\left (\\psi \\right )} \\sin{\\left (\\theta \\right )} + \\cos{\\left (\\phi \\right )} \\cos{\\left (\\psi \\right )} & \\sin{\\left (\\phi \\right )} \\cos{\\left (\\theta \\right )} & 0 & 0 & 0\\\\\\sin{\\left (\\phi \\right )} \\sin{\\left (\\psi \\right )} + \\sin{\\left (\\theta \\right )} \\cos{\\left (\\phi \\right )} \\cos{\\left (\\psi \\right )} & - \\sin{\\left (\\phi \\right )} \\cos{\\left (\\psi \\right )} + \\sin{\\left (\\psi \\right )} \\sin{\\left (\\theta \\right )} \\cos{\\left (\\phi \\right )} & \\cos{\\left (\\phi \\right )} \\cos{\\left (\\theta \\right )} & 0 & 0 & 0\\\\0 & 0 & 0 & 1 & 0 & - \\sin{\\left (\\theta \\right )}\\\\0 & 0 & 0 & 0 & \\cos{\\left (\\phi \\right )} & \\sin{\\left (\\phi \\right )} \\cos{\\left (\\theta \\right )}\\\\0 & 0 & 0 & 0 & - \\sin{\\left (\\phi \\right )} & \\cos{\\left (\\phi \\right )} \\cos{\\left (\\theta \\right )}\\end{matrix}\\right]$$"
      ],
      "text/plain": [
       "⎡           cos(ψ)⋅cos(θ)                          sin(ψ)⋅cos(θ)              \n",
       "⎢                                                                             \n",
       "⎢sin(φ)⋅sin(θ)⋅cos(ψ) - sin(ψ)⋅cos(φ)  sin(φ)⋅sin(ψ)⋅sin(θ) + cos(φ)⋅cos(ψ)   \n",
       "⎢                                                                             \n",
       "⎢sin(φ)⋅sin(ψ) + sin(θ)⋅cos(φ)⋅cos(ψ)  -sin(φ)⋅cos(ψ) + sin(ψ)⋅sin(θ)⋅cos(φ)  \n",
       "⎢                                                                             \n",
       "⎢                 0                                      0                    \n",
       "⎢                                                                             \n",
       "⎢                 0                                      0                    \n",
       "⎢                                                                             \n",
       "⎣                 0                                      0                    \n",
       "\n",
       "   -sin(θ)     0     0           0      ⎤\n",
       "                                        ⎥\n",
       "sin(φ)⋅cos(θ)  0     0           0      ⎥\n",
       "                                        ⎥\n",
       "cos(φ)⋅cos(θ)  0     0           0      ⎥\n",
       "                                        ⎥\n",
       "      0        1     0        -sin(θ)   ⎥\n",
       "                                        ⎥\n",
       "      0        0  cos(φ)   sin(φ)⋅cos(θ)⎥\n",
       "                                        ⎥\n",
       "      0        0  -sin(φ)  cos(φ)⋅cos(θ)⎦"
      ]
     },
     "execution_count": 12,
     "metadata": {},
     "output_type": "execute_result"
    }
   ],
   "source": [
    "Je"
   ]
  },
  {
   "cell_type": "code",
   "execution_count": 13,
   "metadata": {},
   "outputs": [
    {
     "data": {
      "image/png": "[encoded data removed]",
      "text/latex": [
       "$$\\left[\\begin{matrix}\\cos{\\left (\\psi \\right )} \\cos{\\left (\\theta \\right )} & \\sin{\\left (\\phi \\right )} \\sin{\\left (\\theta \\right )} \\cos{\\left (\\psi \\right )} - \\sin{\\left (\\psi \\right )} \\cos{\\left (\\phi \\right )} & \\sin{\\left (\\phi \\right )} \\sin{\\left (\\psi \\right )} + \\sin{\\left (\\theta \\right )} \\cos{\\left (\\phi \\right )} \\cos{\\left (\\psi \\right )} & 0 & 0 & 0\\\\\\sin{\\left (\\psi \\right )} \\cos{\\left (\\theta \\right )} & \\sin{\\left (\\phi \\right )} \\sin{\\left (\\psi \\right )} \\sin{\\left (\\theta \\right )} + \\cos{\\left (\\phi \\right )} \\cos{\\left (\\psi \\right )} & - \\sin{\\left (\\phi \\right )} \\cos{\\left (\\psi \\right )} + \\sin{\\left (\\psi \\right )} \\sin{\\left (\\theta \\right )} \\cos{\\left (\\phi \\right )} & 0 & 0 & 0\\\\- \\sin{\\left (\\theta \\right )} & \\sin{\\left (\\phi \\right )} \\cos{\\left (\\theta \\right )} & \\cos{\\left (\\phi \\right )} \\cos{\\left (\\theta \\right )} & 0 & 0 & 0\\\\0 & 0 & 0 & 1 & \\sin{\\left (\\phi \\right )} \\tan{\\left (\\theta \\right )} & \\cos{\\left (\\phi \\right )} \\tan{\\left (\\theta \\right )}\\\\0 & 0 & 0 & 0 & \\cos{\\left (\\phi \\right )} & - \\sin{\\left (\\phi \\right )}\\\\0 & 0 & 0 & 0 & \\frac{\\sin{\\left (\\phi \\right )}}{\\cos{\\left (\\theta \\right )}} & \\frac{\\cos{\\left (\\phi \\right )}}{\\cos{\\left (\\theta \\right )}}\\end{matrix}\\right]$$"
      ],
      "text/plain": [
       "⎡cos(ψ)⋅cos(θ)  sin(φ)⋅sin(θ)⋅cos(ψ) - sin(ψ)⋅cos(φ)  sin(φ)⋅sin(ψ) + sin(θ)⋅c\n",
       "⎢                                                                             \n",
       "⎢sin(ψ)⋅cos(θ)  sin(φ)⋅sin(ψ)⋅sin(θ) + cos(φ)⋅cos(ψ)  -sin(φ)⋅cos(ψ) + sin(ψ)⋅\n",
       "⎢                                                                             \n",
       "⎢   -sin(θ)                sin(φ)⋅cos(θ)                          cos(φ)⋅cos(θ\n",
       "⎢                                                                             \n",
       "⎢      0                         0                                      0     \n",
       "⎢                                                                             \n",
       "⎢      0                         0                                      0     \n",
       "⎢                                                                             \n",
       "⎢                                                                             \n",
       "⎢      0                         0                                      0     \n",
       "⎣                                                                             \n",
       "\n",
       "os(φ)⋅cos(ψ)   0        0              0      ⎤\n",
       "                                              ⎥\n",
       "sin(θ)⋅cos(φ)  0        0              0      ⎥\n",
       "                                              ⎥\n",
       ")              0        0              0      ⎥\n",
       "                                              ⎥\n",
       "               1  sin(φ)⋅tan(θ)  cos(φ)⋅tan(θ)⎥\n",
       "                                              ⎥\n",
       "               0     cos(φ)         -sin(φ)   ⎥\n",
       "                                              ⎥\n",
       "                     sin(φ)         cos(φ)    ⎥\n",
       "               0     ──────         ──────    ⎥\n",
       "                     cos(θ)         cos(θ)    ⎦"
      ]
     },
     "execution_count": 13,
     "metadata": {},
     "output_type": "execute_result"
    }
   ],
   "source": [
    "Je_inv = simplify(Je.inv()) # Similar to creating a block matrix with iR and Jko_inv instead\n",
    "Je_inv"
   ]
  },
  {
   "cell_type": "code",
   "execution_count": 14,
   "metadata": {},
   "outputs": [],
   "source": [
    "# test = utilities.lambdify((phi, psi, theta), Je)"
   ]
  },
  {
   "cell_type": "code",
   "execution_count": 15,
   "metadata": {},
   "outputs": [
    {
     "data": {
      "text/plain": [
       "array([[cos(pitch_)*cos(yaw_),\n",
       "        sin(pitch_)*sin(roll_)*cos(yaw_) - sin(yaw_)*cos(roll_),\n",
       "        sin(pitch_)*cos(roll_)*cos(yaw_) + sin(roll_)*sin(yaw_), 0, 0, 0],\n",
       "       [sin(yaw_)*cos(pitch_),\n",
       "        sin(pitch_)*sin(roll_)*sin(yaw_) + cos(roll_)*cos(yaw_),\n",
       "        sin(pitch_)*sin(yaw_)*cos(roll_) - sin(roll_)*cos(yaw_), 0, 0, 0],\n",
       "       [-sin(pitch_), sin(roll_)*cos(pitch_), cos(pitch_)*cos(roll_), 0,\n",
       "        0, 0],\n",
       "       [0, 0, 0, 1, sin(roll_)*tan(pitch_), cos(roll_)*tan(pitch_)],\n",
       "       [0, 0, 0, 0, cos(roll_), -sin(roll_)],\n",
       "       [0, 0, 0, 0, sin(roll_)/cos(pitch_), cos(roll_)/cos(pitch_)]],\n",
       "      dtype=object)"
      ]
     },
     "execution_count": 15,
     "metadata": {},
     "output_type": "execute_result"
    }
   ],
   "source": [
    "# Let's convert our Je_inv matrix to a numpy array expression so we can copy and paste into our code\n",
    "# First let's sub the symbols\n",
    "roll_, pitch_, yaw_ = symbols(\"roll_ pitch_ yaw_\")\n",
    "Je_inv_sub = Je_inv.subs([(phi, roll_), (theta, pitch_), (psi, yaw_)])\n",
    "import numpy as np\n",
    "np.array(Je_inv_sub.tolist()) # remember to change expression"
   ]
  },
  {
   "cell_type": "markdown",
   "metadata": {},
   "source": [
    "# Singularity\n",
    "Now under certain configurations the Je_inv matrix is non-invertible, there is a division by cos(theta), so at pitch angles of -pi/2, pi/2 there is a division by zero. I instead need to represent the attitude rates using quaternions. The position linear velocity is fine, just the rates that need attention. A good online quaternion visualizer is found [here](http://quaternions.online/)\n",
    "\n",
    "What I have is $v = [v_1 v_2] = [x y z \\phi \\theta \\psi$\n",
    "I need $\\dot{\\eta} = J_e({}^{I}R_B)v$\n",
    "The Jacobian bottom right 3x3 matrix $J_{ko}$ is noninvertible at the singular position, so that's why we need to better use a quaternion to represent att rates\n",
    "\n",
    "Let $\\eta_q = \\begin{bmatrix}\\eta_1 \\\\ \\epsilon \\\\ \\eta \\end{bmatrix} = \\begin{bmatrix}{}^{I}x \\\\{}^{I}y\\\\ {}^{I}z\\\\ \\epsilon\\\\ \\eta \\end{bmatrix}$ instead of $\\eta= \\begin{bmatrix}{}^{I}x \\\\{}^{I}y\\\\ {}^{I}z\\\\ {}^{I}\\phi\\\\ {}^{I}\\theta\\\\ {}^{I}\\psi \\end{bmatrix}$\n",
    "\n",
    "We then can compute $v = J_{e,q}({}^{B}R_I) \\dot{\\eta}_q$\n",
    "or $\\dot{\\eta}_q = J_{e,q}({}^{I}R_B)v $, I'm using the more intuite convention for $R$ in $J_e$\n",
    "Then we can get $\\dot{eta}$ from $\\dot{\\eta}_q$ by converting the quaternion represenation of rates to euler rates.  "
   ]
  },
  {
   "cell_type": "code",
   "execution_count": 30,
   "metadata": {},
   "outputs": [
    {
     "data": {
      "image/png": "[encoded data removed]",
      "text/latex": [
       "$$\\left[\\begin{matrix}0.5 qr & - 0.5 qk & 0.5 qj\\\\0.5 qk & 0.5 qr & - 0.5 qi\\\\- 0.5 qj & 0.5 qi & 0.5 qr\\\\- 0.5 qi & - 0.5 qj & - 0.5 qk\\end{matrix}\\right]$$"
      ],
      "text/plain": [
       "⎡0.5⋅qr   -0.5⋅qk  0.5⋅qj ⎤\n",
       "⎢                         ⎥\n",
       "⎢0.5⋅qk   0.5⋅qr   -0.5⋅qi⎥\n",
       "⎢                         ⎥\n",
       "⎢-0.5⋅qj  0.5⋅qi   0.5⋅qr ⎥\n",
       "⎢                         ⎥\n",
       "⎣-0.5⋅qi  -0.5⋅qj  -0.5⋅qk⎦"
      ]
     },
     "execution_count": 30,
     "metadata": {},
     "output_type": "execute_result"
    }
   ],
   "source": [
    "# We use ROS tf to convert between euler and quaternions, I just need to construct the Je,q matrix using quaternion_att, so both R and Jko need to be a function of quaternions\n",
    "# but let's construct \n",
    "qr, qi, qj, qk = symbols(\"qr qi qj qk\")\n",
    "bRq = Matrix([[1-2*(qj*qj+qk*qk), 2*(qi*qj+qk*qr), 2*(qi*qk-qj*qr)],\\\n",
    "              [2*(qi*qj-qk*qr), 1 - 2*(qi*qi+qk*qk), 2*(qj*qk+qi*qr) ],\\\n",
    "              [2*(qi*qk+qj*qr), 2*(qj*qk-qi*qr), 1 - 2*(qi*qi+qj*qj)]])\n",
    "iRq = Matrix([[1-2*(qj*qj+qk*qk), 2*(qi*qj-qk*qr), 2*(qi*qk+qj*qr)],\\\n",
    "              [2*(qi*qj+qk*qr), 1 - 2*(qi*qi+qk*qk), 2*(qj*qk-qi*qr) ],\\\n",
    "              [2*(qi*qk-qj*qr), 2*(qj*qk+qi*qr), 1 - 2*(qi*qi+qj*qj)]])\n",
    "# Now the Jk,q\n",
    "Jkoq = 0.5*Matrix([[qr, -qk, qj],[qk, qr, -qi],[-qj, qi, qr],[-qi, -qj, -qk]])\n",
    "Jkoq"
   ]
  },
  {
   "cell_type": "code",
   "execution_count": 25,
   "metadata": {},
   "outputs": [
    {
     "data": {
      "image/png": "[encoded data removed]",
      "text/latex": [
       "$$\\left[\\begin{matrix}- 2 qj^{2} - 2 qk^{2} + 1 & 2 qi qj + 2 qk qr & 2 qi qk - 2 qj qr\\\\2 qi qj - 2 qk qr & - 2 qi^{2} - 2 qk^{2} + 1 & 2 qi qr + 2 qj qk\\\\2 qi qk + 2 qj qr & - 2 qi qr + 2 qj qk & - 2 qi^{2} - 2 qj^{2} + 1\\end{matrix}\\right]$$"
      ],
      "text/plain": [
       "⎡      2       2                                              ⎤\n",
       "⎢- 2⋅qj  - 2⋅qk  + 1   2⋅qi⋅qj + 2⋅qk⋅qr    2⋅qi⋅qk - 2⋅qj⋅qr ⎥\n",
       "⎢                                                             ⎥\n",
       "⎢                           2       2                         ⎥\n",
       "⎢ 2⋅qi⋅qj - 2⋅qk⋅qr   - 2⋅qi  - 2⋅qk  + 1   2⋅qi⋅qr + 2⋅qj⋅qk ⎥\n",
       "⎢                                                             ⎥\n",
       "⎢                                                2       2    ⎥\n",
       "⎣ 2⋅qi⋅qk + 2⋅qj⋅qr   -2⋅qi⋅qr + 2⋅qj⋅qk   - 2⋅qi  - 2⋅qj  + 1⎦"
      ]
     },
     "execution_count": 25,
     "metadata": {},
     "output_type": "execute_result"
    }
   ],
   "source": [
    "bRq"
   ]
  },
  {
   "cell_type": "code",
   "execution_count": 26,
   "metadata": {},
   "outputs": [
    {
     "data": {
      "image/png": "[encoded data removed]",
      "text/latex": [
       "$$\\left[\\begin{matrix}- 2 qj^{2} - 2 qk^{2} + 1 & 2 qi qj - 2 qk qr & 2 qi qk + 2 qj qr\\\\2 qi qj + 2 qk qr & - 2 qi^{2} - 2 qk^{2} + 1 & - 2 qi qr + 2 qj qk\\\\2 qi qk - 2 qj qr & 2 qi qr + 2 qj qk & - 2 qi^{2} - 2 qj^{2} + 1\\end{matrix}\\right]$$"
      ],
      "text/plain": [
       "⎡      2       2                                              ⎤\n",
       "⎢- 2⋅qj  - 2⋅qk  + 1   2⋅qi⋅qj - 2⋅qk⋅qr    2⋅qi⋅qk + 2⋅qj⋅qr ⎥\n",
       "⎢                                                             ⎥\n",
       "⎢                           2       2                         ⎥\n",
       "⎢ 2⋅qi⋅qj + 2⋅qk⋅qr   - 2⋅qi  - 2⋅qk  + 1  -2⋅qi⋅qr + 2⋅qj⋅qk ⎥\n",
       "⎢                                                             ⎥\n",
       "⎢                                                2       2    ⎥\n",
       "⎣ 2⋅qi⋅qk - 2⋅qj⋅qr    2⋅qi⋅qr + 2⋅qj⋅qk   - 2⋅qi  - 2⋅qj  + 1⎦"
      ]
     },
     "execution_count": 26,
     "metadata": {},
     "output_type": "execute_result"
    }
   ],
   "source": [
    "iRq"
   ]
  },
  {
   "cell_type": "code",
   "execution_count": 19,
   "metadata": {},
   "outputs": [
    {
     "data": {
      "text/plain": [
       "array([[-2*qj**2 - 2*qk**2 + 1, 2*qi*qj - 2*qk*qr, 2*qi*qk + 2*qj*qr],\n",
       "       [2*qi*qj + 2*qk*qr, -2*qi**2 - 2*qk**2 + 1, -2*qi*qr + 2*qj*qk],\n",
       "       [2*qi*qk - 2*qj*qr, 2*qi*qr + 2*qj*qk, -2*qi**2 - 2*qj**2 + 1]],\n",
       "      dtype=object)"
      ]
     },
     "execution_count": 19,
     "metadata": {},
     "output_type": "execute_result"
    }
   ],
   "source": [
    "np.array(iRq.tolist()) "
   ]
  },
  {
   "cell_type": "code",
   "execution_count": 31,
   "metadata": {},
   "outputs": [
    {
     "data": {
      "image/png": "[encoded data removed]",
      "text/latex": [
       "$$\\left[\\begin{matrix}0.5 qr & - 0.5 qk & 0.5 qj\\\\0.5 qk & 0.5 qr & - 0.5 qi\\\\- 0.5 qj & 0.5 qi & 0.5 qr\\\\- 0.5 qi & - 0.5 qj & - 0.5 qk\\end{matrix}\\right]$$"
      ],
      "text/plain": [
       "⎡0.5⋅qr   -0.5⋅qk  0.5⋅qj ⎤\n",
       "⎢                         ⎥\n",
       "⎢0.5⋅qk   0.5⋅qr   -0.5⋅qi⎥\n",
       "⎢                         ⎥\n",
       "⎢-0.5⋅qj  0.5⋅qi   0.5⋅qr ⎥\n",
       "⎢                         ⎥\n",
       "⎣-0.5⋅qi  -0.5⋅qj  -0.5⋅qk⎦"
      ]
     },
     "execution_count": 31,
     "metadata": {},
     "output_type": "execute_result"
    }
   ],
   "source": [
    "Jkoq"
   ]
  },
  {
   "cell_type": "code",
   "execution_count": 35,
   "metadata": {},
   "outputs": [
    {
     "data": {
      "text/plain": [
       "array([[-2*qj**2 - 2*qk**2 + 1, 2*qi*qj + 2*qk*qr, 2*qi*qk - 2*qj*qr, 0,\n",
       "        0, 0, 0],\n",
       "       [2*qi*qj - 2*qk*qr, -2*qi**2 - 2*qk**2 + 1, 2*qi*qr + 2*qj*qk, 0,\n",
       "        0, 0, 0],\n",
       "       [2*qi*qk + 2*qj*qr, -2*qi*qr + 2*qj*qk, -2*qi**2 - 2*qj**2 + 1, 0,\n",
       "        0, 0, 0],\n",
       "       [0, 0, 0, 2.0*qr, 2.0*qk, -2.0*qj, -2.0*qi],\n",
       "       [0, 0, 0, -2.0*qk, 2.0*qr, 2.0*qi, -2.0*qj],\n",
       "       [0, 0, 0, 2.0*qj, -2.0*qi, 2.0*qr, -2.0*qk]], dtype=object)"
      ]
     },
     "execution_count": 35,
     "metadata": {},
     "output_type": "execute_result"
    }
   ],
   "source": [
    "Je1q = Matrix.hstack(bRq,zeros(3,4))\n",
    "Je2q = Matrix.hstack(zeros(3,3), 4*Jkoq.transpose())\n",
    "Jeq = simplify(Matrix.vstack(Je1q, Je2q))\n",
    "np.array(Jeq.tolist()) "
   ]
  },
  {
   "cell_type": "code",
   "execution_count": 34,
   "metadata": {},
   "outputs": [
    {
     "data": {
      "text/plain": [
       "array([[-2*qj**2 - 2*qk**2 + 1, 2*qi*qj - 2*qk*qr, 2*qi*qk + 2*qj*qr, 0,\n",
       "        0, 0],\n",
       "       [2*qi*qj + 2*qk*qr, -2*qi**2 - 2*qk**2 + 1, -2*qi*qr + 2*qj*qk, 0,\n",
       "        0, 0],\n",
       "       [2*qi*qk - 2*qj*qr, 2*qi*qr + 2*qj*qk, -2*qi**2 - 2*qj**2 + 1, 0,\n",
       "        0, 0],\n",
       "       [0, 0, 0, 0.5*qr, -0.5*qk, 0.5*qj],\n",
       "       [0, 0, 0, 0.5*qk, 0.5*qr, -0.5*qi],\n",
       "       [0, 0, 0, -0.5*qj, 0.5*qi, 0.5*qr],\n",
       "       [0, 0, 0, -0.5*qi, -0.5*qj, -0.5*qk]], dtype=object)"
      ]
     },
     "execution_count": 34,
     "metadata": {},
     "output_type": "execute_result"
    }
   ],
   "source": [
    "# This is from eq2.25 Antonelli\n",
    "iR_sub = iR.subs([(phi, roll_), (theta, pitch_), (psi, yaw_)])\n",
    "Je1q_inv = Matrix.hstack(iRq,zeros(3,3))\n",
    "Je2q_inv = Matrix.hstack(zeros(4,3), Jkoq)\n",
    "Jeq_inv = simplify(Matrix.vstack(Je1q_inv, Je2q_inv))\n",
    "np.array(Jeq_inv.tolist()) "
   ]
  },
  {
   "cell_type": "code",
   "execution_count": 22,
   "metadata": {},
   "outputs": [
    {
     "data": {
      "text/plain": [
       "array([4, 5, 6])"
      ]
     },
     "execution_count": 22,
     "metadata": {},
     "output_type": "execute_result"
    }
   ],
   "source": [
    "p = np.array([1,2,3,4,5,6])\n",
    "p[3:6]"
   ]
  },
  {
   "cell_type": "markdown",
   "metadata": {},
   "source": [
    "Propagating quaternion rate over time is not a straight forward matter, I don't know why the book has it that attitude change is represented in eta_dot. Check [this](https://www.ashwinnarayan.com/post/how-to-integrate-quaternions/) page on dealing with quaternions. \n",
    "\n",
    "---\n",
    "So it turns out that the quaternion rates can be used to represent the system dynamics, and not to be integrated to find position at a point in time. Simulating the system will require euler angles. But I still need to answer the question of how to avoid singularity in the jacobian when pitch is -pi/2, pi/2"
   ]
  }
 ],
 "metadata": {
  "kernelspec": {
   "display_name": "Python 3",
   "language": "python",
   "name": "python3"
  },
  "language_info": {
   "codemirror_mode": {
    "name": "ipython",
    "version": 3
   },
   "file_extension": ".py",
   "mimetype": "text/x-python",
   "name": "python",
   "nbconvert_exporter": "python",
   "pygments_lexer": "ipython3",
   "version": "3.5.2"
  }
 },
 "nbformat": 4,
 "nbformat_minor": 2
}
